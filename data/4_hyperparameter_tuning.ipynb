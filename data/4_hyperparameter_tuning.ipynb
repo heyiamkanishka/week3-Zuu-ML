{
 "cells": [
  {
   "cell_type": "code",
   "execution_count": 7,
   "id": "0e694558",
   "metadata": {},
   "outputs": [],
   "source": [
    "import joblib\n",
    "import warnings\n",
    "import numpy as np\n",
    "import pandas as pd\n",
    "import seaborn as sns\n",
    "import matplotlib.pyplot as plt\n",
    "from sklearn.ensemble import RandomForestClassifier\n",
    "from sklearn.linear_model import LogisticRegression\n",
    "from sklearn.tree import DecisionTreeClassifier\n",
    "from sklearn.model_selection import (\n",
    "    StratifiedKFold,\n",
    "    cross_validate,\n",
    "    GridSearchCV)\n",
    "from sklearn.metrics import confusion_matrix\n",
    "warnings.filterwarnings(\"ignore\")"
   ]
  },
  {
   "cell_type": "markdown",
   "id": "d59332bc",
   "metadata": {},
   "source": [
    "## Load the data"
   ]
  },
  {
   "cell_type": "code",
   "execution_count": 23,
   "id": "ffc6f839",
   "metadata": {},
   "outputs": [],
   "source": [
    "X_train = np.load('artifacts/X_train.npz')['arr_0']\n",
    "Y_train = np.load('artifacts/Y_train.npz')['arr_0']\n",
    "X_test = np.load('artifacts/X_test.npz')['arr_0']\n",
    "Y_test = np.load('artifacts/Y_test.npz')['arr_0']\n",
    "\n"
   ]
  },
  {
   "cell_type": "markdown",
   "id": "2fdb594a",
   "metadata": {},
   "source": [
    "## Define Multi Models\n"
   ]
  },
  {
   "cell_type": "code",
   "execution_count": 24,
   "id": "238e65fe",
   "metadata": {},
   "outputs": [],
   "source": [
    "#models = {\n",
    "#    \"Logistic Regression\": LogisticRegression(),\n",
    "#    \"Random Forest\": RandomForestClassifier(),\n",
    "#    \"Decision Tree\": DecisionTreeClassifier()   \n",
    "#}\n",
    "\n",
    "lr_param_grid = {\n",
    "    'max_iter': [1000, 5000, 10000]\n",
    "}\n",
    "\n",
    "dt_param_grid = {\n",
    "    'max_depth': [8, 12, 16, 20],\n",
    "    'criterion': ['gini', 'entropy', \"log_loss\"]\n",
    "}\n",
    "\n",
    "rf_param_grid = {\n",
    "    'n_estimators': [50, 100, 150, 200],\n",
    "    'max_depth': [8, 12, 16, 20],\n",
    "    'criterion': ['gini', 'entropy', \"log_loss\"]\n",
    "}\n",
    "\n",
    "param_grids= {\n",
    "    'LogisticRegression': lr_param_grid,\n",
    "    'DecisionTreeClassifier': dt_param_grid,\n",
    "    'RandomForestClassifier': rf_param_grid\n",
    "}\n"
   ]
  },
  {
   "cell_type": "markdown",
   "id": "8cf7f2bb",
   "metadata": {},
   "source": [
    "##  Define Multi Models"
   ]
  },
  {
   "cell_type": "code",
   "execution_count": 25,
   "id": "3febe7c0",
   "metadata": {},
   "outputs": [],
   "source": [
    "models = {\n",
    "    \"LogisticRegression\": LogisticRegression(),\n",
    "    \"RandomForestClassifier\": RandomForestClassifier(),\n",
    "    \"DecisionTreeClassifier\": DecisionTreeClassifier()\n",
    "}\n"
   ]
  },
  {
   "cell_type": "markdown",
   "id": "fee53544",
   "metadata": {},
   "source": [
    "## Configure K-Fold CV"
   ]
  },
  {
   "cell_type": "code",
   "execution_count": 26,
   "id": "60e3fd66",
   "metadata": {},
   "outputs": [],
   "source": [
    "cv = StratifiedKFold(\n",
    "    n_splits= 5,\n",
    "    random_state=42,\n",
    "    shuffle=True\n",
    ")"
   ]
  },
  {
   "cell_type": "markdown",
   "id": "8cab027d",
   "metadata": {},
   "source": [
    "## Multi Model Training"
   ]
  },
  {
   "cell_type": "code",
   "execution_count": 27,
   "id": "f53a594d",
   "metadata": {},
   "outputs": [
    {
     "name": "stdout",
     "output_type": "stream",
     "text": [
      "\n",
      "---Tuning LogisticRegression---\n",
      "Fitting gridSearchCV for LogisticRegression\n",
      "Fitting 5 folds for each of 3 candidates, totalling 15 fits\n",
      "LogisticRegression gridSearchCV completed\n",
      "Best Parameters: {'max_iter': 1000}\n",
      "Best CV score: 0.7324904731803483\n",
      "\n",
      "---Tuning RandomForestClassifier---\n",
      "Fitting gridSearchCV for RandomForestClassifier\n",
      "Fitting 5 folds for each of 48 candidates, totalling 240 fits\n",
      "RandomForestClassifier gridSearchCV completed\n",
      "Best Parameters: {'criterion': 'log_loss', 'max_depth': 20, 'n_estimators': 150}\n",
      "Best CV score: 0.894502025545515\n",
      "\n",
      "---Tuning DecisionTreeClassifier---\n",
      "Fitting gridSearchCV for DecisionTreeClassifier\n",
      "Fitting 5 folds for each of 12 candidates, totalling 60 fits\n",
      "DecisionTreeClassifier gridSearchCV completed\n",
      "Best Parameters: {'criterion': 'gini', 'max_depth': 20}\n",
      "Best CV score: 0.8301192551047123\n"
     ]
    }
   ],
   "source": [
    "grid_search_results = {}\n",
    "for model_name, model in models.items():\n",
    "    print(f\"\\n---Tuning {model_name}---\")\n",
    "\n",
    "    param_grid = param_grids[model_name]\n",
    "\n",
    "    \n",
    "    grid_search = GridSearchCV(\n",
    "        estimator=model,\n",
    "        param_grid=param_grid,\n",
    "        scoring='f1',\n",
    "        cv=cv,\n",
    "        verbose=1,\n",
    "        return_train_score=False\n",
    "    )\n",
    "\n",
    "    print(f\"Fitting gridSearchCV for {model_name}\")\n",
    "\n",
    "    grid_search.fit(X_train, Y_train)\n",
    "\n",
    "    grid_search_results[model_name] = grid_search\n",
    "    \n",
    "    print(f\"{model_name} gridSearchCV completed\")\n",
    "    print(f\"Best Parameters: {grid_search.best_params_}\")\n",
    "    print(f\"Best CV score: {grid_search.best_score_}\")"
   ]
  },
  {
   "cell_type": "code",
   "execution_count": 28,
   "id": "fb06eaf2",
   "metadata": {},
   "outputs": [
    {
     "data": {
      "text/plain": [
       "{'LogisticRegression': GridSearchCV(cv=StratifiedKFold(n_splits=5, random_state=42, shuffle=True),\n",
       "              estimator=LogisticRegression(),\n",
       "              param_grid={'max_iter': [1000, 5000, 10000]}, scoring='f1',\n",
       "              verbose=1),\n",
       " 'RandomForestClassifier': GridSearchCV(cv=StratifiedKFold(n_splits=5, random_state=42, shuffle=True),\n",
       "              estimator=RandomForestClassifier(),\n",
       "              param_grid={'criterion': ['gini', 'entropy', 'log_loss'],\n",
       "                          'max_depth': [8, 12, 16, 20],\n",
       "                          'n_estimators': [50, 100, 150, 200]},\n",
       "              scoring='f1', verbose=1),\n",
       " 'DecisionTreeClassifier': GridSearchCV(cv=StratifiedKFold(n_splits=5, random_state=42, shuffle=True),\n",
       "              estimator=DecisionTreeClassifier(),\n",
       "              param_grid={'criterion': ['gini', 'entropy', 'log_loss'],\n",
       "                          'max_depth': [8, 12, 16, 20]},\n",
       "              scoring='f1', verbose=1)}"
      ]
     },
     "execution_count": 28,
     "metadata": {},
     "output_type": "execute_result"
    }
   ],
   "source": [
    "grid_search_results"
   ]
  },
  {
   "cell_type": "code",
   "execution_count": null,
   "id": "a82ac1d2",
   "metadata": {},
   "outputs": [],
   "source": []
  }
 ],
 "metadata": {
  "kernelspec": {
   "display_name": "bprmls",
   "language": "python",
   "name": "python3"
  },
  "language_info": {
   "codemirror_mode": {
    "name": "ipython",
    "version": 3
   },
   "file_extension": ".py",
   "mimetype": "text/x-python",
   "name": "python",
   "nbconvert_exporter": "python",
   "pygments_lexer": "ipython3",
   "version": "3.11.13"
  }
 },
 "nbformat": 4,
 "nbformat_minor": 5
}
